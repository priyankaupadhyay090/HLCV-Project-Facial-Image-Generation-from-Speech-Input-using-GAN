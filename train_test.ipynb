{
 "cells": [
  {
   "cell_type": "code",
   "execution_count": 1,
   "metadata": {},
   "outputs": [],
   "source": [
    "import torch\n",
    "import torch.nn as nn\n",
    "import numpy as np\n",
    "import matplotlib.pyplot as plt\n",
    "from PIL import Image\n",
    "from torch.autograd import Variable\n",
    "from pathlib import Path\n",
    "from importlib import reload\n",
    "%load_ext autoreload\n",
    "%autoreload 2\n"
   ]
  },
  {
   "cell_type": "code",
   "execution_count": 2,
   "metadata": {},
   "outputs": [],
   "source": [
    "from dataset import speech_dataset\n",
    "reload(speech_dataset)\n",
    "\n",
    "PARENT_DIR = Path().resolve()\n",
    "DATA_DIR = PARENT_DIR / 'preprocess' / 'mmca'\n",
    "\n",
    "train_data = speech_dataset.SpeechImgDataset(DATA_DIR, 'train')\n",
    "test_data = speech_dataset.SpeechImgDataset(DATA_DIR, 'test')\n",
    "\n",
    "train_loader = torch.utils.data.DataLoader(\n",
    "            train_data, batch_size=2,\n",
    "            drop_last=True, shuffle=True, num_workers=0, collate_fn=speech_dataset.pad_collate)\n",
    "\n",
    "test_loader = torch.utils.data.DataLoader(\n",
    "            test_data, batch_size=2,\n",
    "            drop_last=False, shuffle=False, num_workers=0, collate_fn=speech_dataset.pad_collate)"
   ]
  },
  {
   "cell_type": "code",
   "execution_count": 3,
   "metadata": {},
   "outputs": [
    {
     "output_type": "stream",
     "name": "stderr",
     "text": [
      "C:\\Users\\tomas\\anaconda3\\lib\\site-packages\\torchvision\\models\\inception.py:80: FutureWarning: The default weight initialization of inception_v3 will be changed in future releases of torchvision. If you wish to keep the old behavior (which leads to long initialization times due to scipy/scipy#11299), please set init_weights=True.\n",
      "  warnings.warn('The default weight initialization of inception_v3 will be changed in future releases of '\n",
      "Loading pre-trained model from  https://download.pytorch.org/models/inception_v3_google-1a9a5a14.pth\n"
     ]
    }
   ],
   "source": [
    "from network import sed, ied\n",
    "reload(sed)\n",
    "reload(ied)\n",
    "\n",
    "speech_model = sed.SED()\n",
    "image_model = ied.Inception_V3_Model()\n",
    "linear_model = ied.Linear_Encoder()\n"
   ]
  },
  {
   "cell_type": "code",
   "execution_count": 5,
   "metadata": {},
   "outputs": [
    {
     "output_type": "stream",
     "name": "stdout",
     "text": [
      "starting training\n",
      "epoch = 5 | loss = 1.4305821657180786 \n",
      "epoch = 10 | loss = 1.2912746667861938 \n",
      "epoch = 15 | loss = 1.6063556671142578 \n",
      "epoch = 20 | loss = 1.3283861875534058 \n",
      "epoch = 25 | loss = 1.2610259056091309 \n",
      "epoch = 30 | loss = 1.3891098499298096 \n",
      "epoch = 35 | loss = 1.1620416641235352 \n",
      "epoch = 40 | loss = 1.374788761138916 \n",
      "epoch = 45 | loss = 1.1230449676513672 \n",
      "epoch = 50 | loss = 1.5154112577438354 \n",
      "epoch = 55 | loss = 1.592215657234192 \n",
      "epoch = 60 | loss = 1.4642646312713623 \n",
      "epoch = 65 | loss = 1.5590267181396484 \n",
      "epoch = 70 | loss = 1.2346559762954712 \n",
      "epoch = 75 | loss = 1.348688006401062 \n",
      "epoch = 80 | loss = 1.5808961391448975 \n",
      "epoch = 85 | loss = 1.0785396099090576 \n",
      "epoch = 90 | loss = 1.4270821809768677 \n",
      "epoch = 95 | loss = 1.4602429866790771 \n",
      "epoch = 100 | loss = 1.3414270877838135 \n"
     ]
    }
   ],
   "source": [
    "import pretrain\n",
    "\n",
    "pretrain.train(train_loader, test_loader, speech_model, image_model, linear_model)"
   ]
  },
  {
   "cell_type": "code",
   "execution_count": null,
   "metadata": {},
   "outputs": [],
   "source": [
    "train_loader"
   ]
  }
 ],
 "metadata": {
  "kernelspec": {
   "name": "python3",
   "display_name": "Python 3.8.5 64-bit ('base': conda)"
  },
  "interpreter": {
   "hash": "4d333c3e79956f6cfdda154d497169890c9e1b3b648807dd58683480f0849f8e"
  }
 },
 "nbformat": 4,
 "nbformat_minor": 4
}